{
 "cells": [
  {
   "cell_type": "code",
   "execution_count": 2,
   "id": "3e41f3c4",
   "metadata": {},
   "outputs": [],
   "source": [
    "import torch\n",
    "import torch.nn as nn\n",
    "import torch.nn.functional as F\n",
    "from torch.optim import Adam\n",
    "import numpy as np\n",
    "\n",
    "from torch.utils.data import TensorDataset, DataLoader\n",
    "import lightning as L\n",
    "import mlflow"
   ]
  },
  {
   "cell_type": "code",
   "execution_count": 3,
   "id": "62a6195f-111f-426e-a1dc-799ab6df1821",
   "metadata": {},
   "outputs": [],
   "source": [
    "\n",
    "\n",
    "# Data has already been prepared for you\n",
    "train = np.load('HA3_train_set.npz')\n",
    "test = np.load('HA3_test_set.npz')\n",
    "X_train = train['x_train']\n",
    "y_train = train['y_train']\n",
    "X_test = test['x_test']\n",
    "y_test = test['y_test']\n",
    "\n",
    "# Step 1: Convert to tensors\n",
    "X_train_tensor = torch.tensor(X_train, dtype=torch.float32)\n",
    "y_train_tensor = torch.tensor(y_train, dtype=torch.long)\n",
    "X_test_tensor = torch.tensor(X_test, dtype=torch.float32)\n",
    "y_test_tensor = torch.tensor(y_test, dtype=torch.long)\n",
    "\n",
    "\n",
    "# Step 2: Create TensorDataset\n",
    "train_dataset = TensorDataset(X_train_tensor, y_train_tensor)\n",
    "test_dataset = TensorDataset(X_test_tensor, y_test_tensor)"
   ]
  },
  {
   "cell_type": "code",
   "execution_count": 4,
   "id": "38134cf5-07ba-4876-b1ac-8d0d24ae5717",
   "metadata": {},
   "outputs": [
    {
     "name": "stdout",
     "output_type": "stream",
     "text": [
      "X_train.shape: (25000, 500)\n",
      "y_train.shape: (25000,)\n",
      "X_test.shape: (17500, 500)\n",
      "y_test.shape: (17500,)\n"
     ]
    }
   ],
   "source": [
    "print(\"X_train.shape:\", X_train.shape)\n",
    "print(\"y_train.shape:\", y_train.shape)\n",
    "print(\"X_test.shape:\", X_test.shape)\n",
    "print(\"y_test.shape:\", y_test.shape)"
   ]
  },
  {
   "cell_type": "code",
   "execution_count": 10,
   "id": "c65d67a5-1076-41be-a3df-1b238c2cbd1e",
   "metadata": {},
   "outputs": [],
   "source": [
    "# Recurrent neural network (many-to-one)\n",
    "class RNN(nn.Module):\n",
    "    def __init__(self, input_size, hidden_size, num_layers, num_classes):\n",
    "        super(RNN, self).__init__()\n",
    "        self.hidden_size = hidden_size\n",
    "        self.num_layers = num_layers\n",
    "        self.lstm = nn.LSTM(input_size, hidden_size, num_layers, batch_first=True)\n",
    "        self.fc = nn.Linear(hidden_size, num_classes)\n",
    "        self.softmax = nn.LogSoftmax(dim = 1)\n",
    "\n",
    "    def forward(self, x):\n",
    "        # Forward propagate LSTM\n",
    "        out, _ = self.lstm(x)  # out: tensor of shape (batch_size, seq_length, hidden_size)\n",
    "        # Decode the hidden state of the last time step\n",
    "        out = self.fc(out[:, -1, :])\n",
    "        out = self.softmax(out)\n",
    "        return out\n",
    "\n"
   ]
  },
  {
   "cell_type": "code",
   "execution_count": 11,
   "id": "f8700726-3734-4a4d-8125-f6dcb4ccd6b9",
   "metadata": {},
   "outputs": [],
   "source": [
    "def train_model(model, input_size, num_epochs, learning_rate, train_loader, test_loader):\n",
    "    # Loss and optimizer\n",
    "    criterion = nn.NLLLoss()\n",
    "    optimizer = torch.optim.Adam(model.parameters(), lr=learning_rate)\n",
    "    best_accuracy = 0.0\n",
    "    global_step = 0\n",
    "\n",
    "    # Train the model\n",
    "    total_step = len(train_loader)\n",
    "    for epoch in range(num_epochs):\n",
    "        for i, (comments, labels) in enumerate(train_loader):\n",
    "            comments = comments.view(comments.shape[0], -1, input_size) \n",
    "            global_step += 1\n",
    "\n",
    "            # Forward pass\n",
    "            outputs = model(comments)\n",
    "            loss = criterion(outputs, labels)\n",
    "\n",
    "            # Backward and optimize\n",
    "            optimizer.zero_grad()\n",
    "            loss.backward()\n",
    "            optimizer.step()\n",
    "\n",
    "            mlflow.log_metric(\"loss\", loss.item(), step = global_step)\n",
    "\n",
    "            if (i+1) % 10 == 0:\n",
    "                print ('Epoch [{}/{}], Step [{}/{}], Loss: {:.4f}'\n",
    "                       .format(epoch+1, num_epochs, i+1, total_step, loss.item()))\n",
    "                \n",
    "                # Test the model\n",
    "                with torch.no_grad():\n",
    "                    correct = 0\n",
    "                    total = 0\n",
    "                    for comments, labels in test_loader:\n",
    "                        comments = comments.view(comments.shape[0], -1, input_size) \n",
    "                        outputs = model(comments)\n",
    "                        _, predicted = torch.max(outputs.data, 1)\n",
    "                        total += labels.size(0)\n",
    "                        correct += (predicted == labels).sum().item()\n",
    "                        accuracy = 100 * correct / total\n",
    "                    mlflow.log_metric(\"Test accuracy vs number of training epochs\", 100 * correct / total, step = global_step)\n",
    "\n",
    "                # Save the best model\n",
    "                if accuracy > best_accuracy:\n",
    "                    best_accuracy = accuracy\n",
    "                    mlflow.pytorch.log_model(pytorch_model=model, artifact_path=\"best-torch-rnn-model\")\n",
    "\n",
    "                print('Test Accuracy of the model on test comments: {} %'.format(100 * correct / total))\n",
    "                \n",
    "    return best_accuracy\n"
   ]
  },
  {
   "cell_type": "code",
   "execution_count": 18,
   "id": "beb24792-22f3-444e-b9bb-f6828b597ef7",
   "metadata": {},
   "outputs": [],
   "source": [
    "import optuna\n",
    "\n",
    "def objective(trial):\n",
    "    \n",
    "    num_layers = 2\n",
    "    hidden_size = 1\n",
    "    batch_size = 2500\n",
    "    learning_rate = trial.suggest_float('learning_rate', 0.001, 0.01)\n",
    "    input_size = 20\n",
    "\n",
    "\n",
    "    train_loader = DataLoader(dataset=train_dataset, batch_size=batch_size, shuffle=True)\n",
    "    test_loader = DataLoader(dataset=test_dataset, batch_size=batch_size, shuffle=False)\n",
    "\n",
    "    num_classes = 2  # Fixed number of classes\n",
    "    num_epochs = 10  # For faster trials, you might want to use more epochs in actual training\n",
    "\n",
    "    with mlflow.start_run():\n",
    "        mlflow.log_param(\"num_hidden_layers\", num_layers)\n",
    "        mlflow.log_param(\"hidden_size\", hidden_size)\n",
    "        mlflow.log_param(\"batch_size\", batch_size)\n",
    "        mlflow.log_param(\"epochs\", num_epochs)\n",
    "        mlflow.log_param(\"learning_rate\", learning_rate)\n",
    "        mlflow.log_param(\"input_size\", input_size)\n",
    "\n",
    "        model = RNN(input_size, hidden_size, num_layers, num_classes)\n",
    "        print('----------------------------------------------------------')\n",
    "        best_accuracy = train_model(model, input_size, num_epochs, learning_rate, train_loader, test_loader)  # Modify train_model to return accuracy\n",
    "\n",
    "        mlflow.log_metric(\"best_accuracy\", best_accuracy)\n",
    "\n",
    "    return best_accuracy\n"
   ]
  },
  {
   "cell_type": "code",
   "execution_count": 19,
   "id": "c0240da2-5ba8-4f68-a906-c0d82480a5de",
   "metadata": {},
   "outputs": [
    {
     "name": "stderr",
     "output_type": "stream",
     "text": [
      "[I 2024-06-04 17:02:25,000] A new study created in memory with name: no-name-11aac609-df86-42c0-8336-86a59b9616c0\n"
     ]
    },
    {
     "name": "stdout",
     "output_type": "stream",
     "text": [
      "----------------------------------------------------------\n",
      "Epoch [1/10], Step [10/10], Loss: 0.7129\n",
      "Test Accuracy of the model on test comments: 50.04571428571428 %\n",
      "Epoch [2/10], Step [10/10], Loss: 0.6940\n",
      "Test Accuracy of the model on test comments: 50.04571428571428 %\n",
      "Epoch [3/10], Step [10/10], Loss: 0.6946\n",
      "Test Accuracy of the model on test comments: 49.95428571428572 %\n",
      "Epoch [4/10], Step [10/10], Loss: 0.6934\n",
      "Test Accuracy of the model on test comments: 49.94285714285714 %\n",
      "Epoch [5/10], Step [10/10], Loss: 0.6929\n",
      "Test Accuracy of the model on test comments: 50.12 %\n",
      "Epoch [6/10], Step [10/10], Loss: 0.6931\n",
      "Test Accuracy of the model on test comments: 50.28 %\n",
      "Epoch [7/10], Step [10/10], Loss: 0.6930\n",
      "Test Accuracy of the model on test comments: 50.31428571428572 %\n",
      "Epoch [8/10], Step [10/10], Loss: 0.6931\n",
      "Test Accuracy of the model on test comments: 50.19428571428571 %\n",
      "Epoch [9/10], Step [10/10], Loss: 0.6929\n",
      "Test Accuracy of the model on test comments: 50.205714285714286 %\n"
     ]
    },
    {
     "name": "stderr",
     "output_type": "stream",
     "text": [
      "[I 2024-06-04 17:02:51,898] Trial 0 finished with value: 50.31428571428572 and parameters: {'learning_rate': 0.009376869555272914}. Best is trial 0 with value: 50.31428571428572.\n"
     ]
    },
    {
     "name": "stdout",
     "output_type": "stream",
     "text": [
      "Epoch [10/10], Step [10/10], Loss: 0.6931\n",
      "Test Accuracy of the model on test comments: 50.177142857142854 %\n",
      "----------------------------------------------------------\n",
      "Epoch [1/10], Step [10/10], Loss: 0.7884\n",
      "Test Accuracy of the model on test comments: 50.04571428571428 %\n",
      "Epoch [2/10], Step [10/10], Loss: 0.7342\n",
      "Test Accuracy of the model on test comments: 50.04571428571428 %\n",
      "Epoch [3/10], Step [10/10], Loss: 0.7129\n",
      "Test Accuracy of the model on test comments: 49.88 %\n",
      "Epoch [4/10], Step [10/10], Loss: 0.7001\n",
      "Test Accuracy of the model on test comments: 49.68571428571428 %\n",
      "Epoch [5/10], Step [10/10], Loss: 0.6983\n",
      "Test Accuracy of the model on test comments: 49.8 %\n",
      "Epoch [6/10], Step [10/10], Loss: 0.7004\n",
      "Test Accuracy of the model on test comments: 49.78285714285714 %\n",
      "Epoch [7/10], Step [10/10], Loss: 0.6975\n",
      "Test Accuracy of the model on test comments: 49.80571428571429 %\n",
      "Epoch [8/10], Step [10/10], Loss: 0.6956\n",
      "Test Accuracy of the model on test comments: 49.89714285714286 %\n",
      "Epoch [9/10], Step [10/10], Loss: 0.6947\n",
      "Test Accuracy of the model on test comments: 49.691428571428574 %\n",
      "Epoch [10/10], Step [10/10], Loss: 0.6956\n"
     ]
    },
    {
     "name": "stderr",
     "output_type": "stream",
     "text": [
      "[I 2024-06-04 17:03:08,492] Trial 1 finished with value: 50.04571428571428 and parameters: {'learning_rate': 0.006789516238133524}. Best is trial 0 with value: 50.31428571428572.\n"
     ]
    },
    {
     "name": "stdout",
     "output_type": "stream",
     "text": [
      "Test Accuracy of the model on test comments: 49.64 %\n",
      "----------------------------------------------------------\n",
      "Epoch [1/10], Step [10/10], Loss: 0.8365\n",
      "Test Accuracy of the model on test comments: 49.95428571428572 %\n",
      "Epoch [2/10], Step [10/10], Loss: 0.8321\n",
      "Test Accuracy of the model on test comments: 49.95428571428572 %\n",
      "Epoch [3/10], Step [10/10], Loss: 0.7775\n",
      "Test Accuracy of the model on test comments: 49.95428571428572 %\n",
      "Epoch [4/10], Step [10/10], Loss: 0.7692\n",
      "Test Accuracy of the model on test comments: 49.95428571428572 %\n",
      "Epoch [5/10], Step [10/10], Loss: 0.7731\n",
      "Test Accuracy of the model on test comments: 49.95428571428572 %\n",
      "Epoch [6/10], Step [10/10], Loss: 0.7588\n",
      "Test Accuracy of the model on test comments: 49.95428571428572 %\n",
      "Epoch [7/10], Step [10/10], Loss: 0.7398\n",
      "Test Accuracy of the model on test comments: 49.95428571428572 %\n",
      "Epoch [8/10], Step [10/10], Loss: 0.7232\n",
      "Test Accuracy of the model on test comments: 49.95428571428572 %\n",
      "Epoch [9/10], Step [10/10], Loss: 0.7184\n",
      "Test Accuracy of the model on test comments: 49.95428571428572 %\n",
      "Epoch [10/10], Step [10/10], Loss: 0.7133\n"
     ]
    },
    {
     "name": "stderr",
     "output_type": "stream",
     "text": [
      "[I 2024-06-04 17:03:26,066] Trial 2 finished with value: 49.95428571428572 and parameters: {'learning_rate': 0.004163104130769196}. Best is trial 0 with value: 50.31428571428572.\n"
     ]
    },
    {
     "name": "stdout",
     "output_type": "stream",
     "text": [
      "Test Accuracy of the model on test comments: 49.95428571428572 %\n",
      "Best trial: 50.31428571428572\n",
      "Best hyperparameters: {'learning_rate': 0.009376869555272914}\n"
     ]
    }
   ],
   "source": [
    "# Create a study and optimize the objective function\n",
    "study = optuna.create_study(direction='maximize')\n",
    "study.optimize(objective, n_trials=3)\n",
    "\n",
    "# Log the best hyperparameters\n",
    "best_trial = study.best_trial\n",
    "print(f'Best trial: {best_trial.value}')\n",
    "print(f'Best hyperparameters: {best_trial.params}')\n",
    "\n"
   ]
  },
  {
   "cell_type": "code",
   "execution_count": null,
   "id": "5ce478fe-36de-423b-aa0f-c1807bf9dc3a",
   "metadata": {},
   "outputs": [],
   "source": []
  }
 ],
 "metadata": {
  "kernelspec": {
   "display_name": "Python 3 (ipykernel)",
   "language": "python",
   "name": "python3"
  },
  "language_info": {
   "codemirror_mode": {
    "name": "ipython",
    "version": 3
   },
   "file_extension": ".py",
   "mimetype": "text/x-python",
   "name": "python",
   "nbconvert_exporter": "python",
   "pygments_lexer": "ipython3",
   "version": "3.11.9"
  }
 },
 "nbformat": 4,
 "nbformat_minor": 5
}
